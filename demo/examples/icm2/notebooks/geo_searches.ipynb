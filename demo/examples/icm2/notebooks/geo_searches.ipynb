{
 "cells": [
  {
   "cell_type": "markdown",
   "metadata": {},
   "source": [
    "## This Notebook is for geometrics related searches and shows how the requests can be built"
   ]
  },
  {
   "cell_type": "markdown",
   "metadata": {},
   "source": [
    "### Initialize"
   ]
  },
  {
   "cell_type": "code",
   "execution_count": 27,
   "metadata": {},
   "outputs": [
    {
     "ename": "FileNotFoundError",
     "evalue": "[Errno 2] No such file or directory: 'c:\\\\Users\\\\I570329\\\\Desktop\\\\Search-Engine\\\\hana-enterprise-search-engine\\\\demo\\\\examples\\\\icm2\\\\notebooks\\\\..\\\\....\\\\..\\\\demo\\\\shared\\\\.config.json'",
     "output_type": "error",
     "traceback": [
      "\u001b[1;31m---------------------------------------------------------------------------\u001b[0m",
      "\u001b[1;31mFileNotFoundError\u001b[0m                         Traceback (most recent call last)",
      "Cell \u001b[1;32mIn [27], line 13\u001b[0m\n\u001b[0;32m      9\u001b[0m \u001b[39mfrom\u001b[39;00m \u001b[39mdemo\u001b[39;00m\u001b[39m.\u001b[39;00m\u001b[39mshared\u001b[39;00m\u001b[39m.\u001b[39;00m\u001b[39mtools\u001b[39;00m \u001b[39mimport\u001b[39;00m TENANT_SUFFIX, get_base_url, get_root_path\n\u001b[0;32m     10\u001b[0m \u001b[39mimport\u001b[39;00m \u001b[39msrc\u001b[39;00m\u001b[39m.\u001b[39;00m\u001b[39mesh_client\u001b[39;00m \u001b[39mas\u001b[39;00m \u001b[39mesh\u001b[39;00m\n\u001b[1;32m---> 13\u001b[0m base_url \u001b[39m=\u001b[39m get_base_url()\n\u001b[0;32m     14\u001b[0m root_path \u001b[39m=\u001b[39m get_root_path()\n\u001b[0;32m     15\u001b[0m selected \u001b[39m=\u001b[39m sys\u001b[39m.\u001b[39mpath[\u001b[39m0\u001b[39m]\u001b[39m.\u001b[39msplit(os\u001b[39m.\u001b[39msep)[\u001b[39m-\u001b[39m\u001b[39m2\u001b[39m]\n",
      "File \u001b[1;32mc:\\Users\\I570329\\Desktop\\Search-Engine\\hana-enterprise-search-engine\\demo\\examples\\icm2\\notebooks\\..\\..\\..\\..\\demo\\shared\\tools.py:24\u001b[0m, in \u001b[0;36mget_base_url\u001b[1;34m()\u001b[0m\n\u001b[0;32m     22\u001b[0m \u001b[39mdef\u001b[39;00m \u001b[39mget_base_url\u001b[39m():\n\u001b[0;32m     23\u001b[0m     config_file \u001b[39m=\u001b[39m os\u001b[39m.\u001b[39mpath\u001b[39m.\u001b[39mjoin(sys\u001b[39m.\u001b[39mpath[\u001b[39m-\u001b[39m\u001b[39m1\u001b[39m], \u001b[39m'\u001b[39m\u001b[39mdemo\u001b[39m\u001b[39m'\u001b[39m, \u001b[39m'\u001b[39m\u001b[39mshared\u001b[39m\u001b[39m'\u001b[39m, \u001b[39m'\u001b[39m\u001b[39m.config.json\u001b[39m\u001b[39m'\u001b[39m)\n\u001b[1;32m---> 24\u001b[0m     \u001b[39mwith\u001b[39;00m \u001b[39mopen\u001b[39;49m(config_file, encoding\u001b[39m=\u001b[39;49m\u001b[39m'\u001b[39;49m\u001b[39mutf-8\u001b[39;49m\u001b[39m'\u001b[39;49m) \u001b[39mas\u001b[39;00m f:\n\u001b[0;32m     25\u001b[0m         config \u001b[39m=\u001b[39m json\u001b[39m.\u001b[39mload(f)\n\u001b[0;32m     26\u001b[0m     \u001b[39mreturn\u001b[39;00m  \u001b[39mf\u001b[39m\u001b[39m\"\u001b[39m\u001b[39mhttp://\u001b[39m\u001b[39m{\u001b[39;00mconfig[\u001b[39m'\u001b[39m\u001b[39mserver\u001b[39m\u001b[39m'\u001b[39m][\u001b[39m'\u001b[39m\u001b[39mhost\u001b[39m\u001b[39m'\u001b[39m]\u001b[39m}\u001b[39;00m\u001b[39m:\u001b[39m\u001b[39m{\u001b[39;00mconfig[\u001b[39m'\u001b[39m\u001b[39mserver\u001b[39m\u001b[39m'\u001b[39m][\u001b[39m'\u001b[39m\u001b[39mport\u001b[39m\u001b[39m'\u001b[39m]\u001b[39m}\u001b[39;00m\u001b[39m\"\u001b[39m\n",
      "\u001b[1;31mFileNotFoundError\u001b[0m: [Errno 2] No such file or directory: 'c:\\\\Users\\\\I570329\\\\Desktop\\\\Search-Engine\\\\hana-enterprise-search-engine\\\\demo\\\\examples\\\\icm2\\\\notebooks\\\\..\\\\....\\\\..\\\\demo\\\\shared\\\\.config.json'"
     ]
    }
   ],
   "source": [
    "import os\n",
    "import sys\n",
    "from datetime import datetime\n",
    "\n",
    "import pandas as pd\n",
    "import requests\n",
    "\n",
    "sys.path.append(os.path.join(sys.path[0], '..', '..''..', '..'))\n",
    "from demo.shared.tools import TENANT_SUFFIX, get_base_url, get_root_path\n",
    "import src.esh_objects as esh\n",
    "\n",
    "\n",
    "base_url = get_base_url()\n",
    "root_path = get_root_path()\n",
    "selected = sys.path[0].split(os.sep)[-2]\n",
    "\n",
    "\n",
    "\n",
    "def execute_search_query(query):\n",
    "    r = requests.post(f'{base_url}/v1/query/{selected}{TENANT_SUFFIX}/latest', json=[query])\n",
    "    if r.status_code == 200:\n",
    "        res = r.json()[0]\n",
    "        if '@odata.count' in res:\n",
    "            print(f'Total count: {res[\"@odata.count\"]}')\n",
    "        if res and 'value' in res and res['value']:\n",
    "            df = pd.DataFrame.from_dict(res['value'])[ ['entityDesc', 'position','street', 'houseNumber', 'city', 'postalCode', 'country']]\n",
    "            df.rename(columns={'entityDesc': 'Description',\n",
    "                  'position': 'Position', 'street': 'Street', 'houseNumber': 'House Number', 'city': 'City',\n",
    "                           'postalCode': 'Postal Code', 'country': 'Country'}, inplace=True)\n",
    "            display(df)\n",
    "        else:\n",
    "            print('No results')\n",
    "    else:\n",
    "        print(f'Error during search. HTTP status code {r.status_code}')\n",
    "        print(r.json())\n"
   ]
  },
  {
   "cell_type": "markdown",
   "metadata": {},
   "source": [
    "## Search for position 8.642383987644662,49.30643058918701"
   ]
  },
  {
   "cell_type": "code",
   "execution_count": 21,
   "metadata": {},
   "outputs": [
    {
     "ename": "AttributeError",
     "evalue": "'EshObject' object has no attribute 'to_statement'",
     "output_type": "error",
     "traceback": [
      "\u001b[1;31m---------------------------------------------------------------------------\u001b[0m",
      "\u001b[1;31mAttributeError\u001b[0m                            Traceback (most recent call last)",
      "Cell \u001b[1;32mIn [21], line 14\u001b[0m\n\u001b[0;32m      1\u001b[0m so \u001b[39m=\u001b[39m esh\u001b[39m.\u001b[39mEshObject(\n\u001b[0;32m      2\u001b[0m     count\u001b[39m=\u001b[39m\u001b[39mTrue\u001b[39;00m,\n\u001b[0;32m      3\u001b[0m     top\u001b[39m=\u001b[39m\u001b[39m2\u001b[39m,\n\u001b[1;32m   (...)\u001b[0m\n\u001b[0;32m     11\u001b[0m                 value\u001b[39m=\u001b[39mesh\u001b[39m.\u001b[39mPoint(\n\u001b[0;32m     12\u001b[0m                     coordinates\u001b[39m=\u001b[39m[\u001b[39m8.642383987644662\u001b[39m,\u001b[39m49.30643058918701\u001b[39m]))]))\n\u001b[1;32m---> 14\u001b[0m \u001b[39mprint\u001b[39m(\u001b[39mf\u001b[39m\u001b[39m'\u001b[39m\u001b[39mESH query statement: \u001b[39m\u001b[39m{\u001b[39;00mso\u001b[39m.\u001b[39mto_statement()\u001b[39m}\u001b[39;00m\u001b[39m'\u001b[39m)\n\u001b[0;32m     15\u001b[0m execute_search_query(so\u001b[39m.\u001b[39mdict(exclude_none\u001b[39m=\u001b[39m\u001b[39mTrue\u001b[39;00m))\n",
      "\u001b[1;31mAttributeError\u001b[0m: 'EshObject' object has no attribute 'to_statement'"
     ]
    }
   ],
   "source": [
    "so = esh.EshObject(\n",
    "    count=True,\n",
    "    top=2,\n",
    "    searchQueryFilter=esh.Expression(\n",
    "        operator=esh.LogicalOperator.AND,\n",
    "        items=[\n",
    "            esh.ScopeComparison(values='Location'),\n",
    "            esh.Comparison(\n",
    "                property=esh.Property(property='position'),\n",
    "                operator=esh.ComparisonOperator.Search,\n",
    "                value=esh.Point(\n",
    "                    coordinates=[8.642383987644662,49.30643058918701]))]))\n",
    "\n",
    "print(f'ESH query statement: {so.to_statement()}')\n",
    "execute_search_query(so.dict(exclude_none=True))\n"
   ]
  },
  {
   "cell_type": "markdown",
   "metadata": {},
   "source": [
    "## Search for the location coordinates of the person \"Alex Kennedy\""
   ]
  },
  {
   "cell_type": "code",
   "execution_count": null,
   "metadata": {},
   "outputs": [],
   "source": [
    "so = esh.EshObject(\n",
    "    count=True,\n",
    "    top=2,\n",
    "    searchQueryFilter=esh.Expression(\n",
    "        operator=esh.LogicalOperator.AND,\n",
    "        items=[\n",
    "            esh.ScopeComparison(values='Location'),\n",
    "            esh.Comparison(\n",
    "                property=esh.Property(\n",
    "                    property=['relPerson', 'person', 'lastName']),\n",
    "                operator=esh.ComparisonOperator.Search,\n",
    "                value=esh.StringValue(\n",
    "                    value='Kennedy')),\n",
    "            esh.Comparison(\n",
    "                property=esh.Property(\n",
    "                    property=['relPerson', 'person', 'firstName']),\n",
    "                operator=esh.ComparisonOperator.Search,\n",
    "                value=esh.StringValue(\n",
    "                    value='Alex'))\n",
    "        ]))\n",
    "\n",
    "print(f'ESH query statement: {so.to_statement()}')\n",
    "execute_search_query(so.dict(exclude_none=True))\n"
   ]
  },
  {
   "cell_type": "markdown",
   "metadata": {},
   "source": [
    "## Search for locations which is within 4 given coordinate points\n",
    "--> A polygon(several coordinates) is defined and it is searched for locations which is within these coordinates"
   ]
  },
  {
   "cell_type": "code",
   "execution_count": null,
   "metadata": {},
   "outputs": [],
   "source": [
    "so = esh.EshObject(\n",
    "    count=True,\n",
    "    top=2,\n",
    "    searchQueryFilter=esh.Expression(\n",
    "        operator=esh.LogicalOperator.AND,\n",
    "        items=[\n",
    "            esh.ScopeComparison(values='Location'),\n",
    "            esh.Comparison(\n",
    "                property=esh.Property(property='position'),\n",
    "                operator=esh.ComparisonOperator.Search,\n",
    "                value=esh.StringValue(value='COVERED_BY:POLYGON((-0.06162643432617188 51.51034504891232,-0.062055587768554694 51.512428331778096,-0.059190988540649414 51.512675381440225,-0.06162643432617188 51.51034504891232))'),\n",
    "            )\n",
    "        ]))\n",
    "\n",
    "print(f'ESH query statement: {so.to_statement()}')\n",
    "execute_search_query(so.dict(exclude_none=True))\n"
   ]
  },
  {
   "cell_type": "markdown",
   "metadata": {},
   "source": [
    "## Search for the person who is within a defined polygon \n"
   ]
  },
  {
   "cell_type": "code",
   "execution_count": null,
   "metadata": {},
   "outputs": [],
   "source": [
    "so = esh.EshObject(\n",
    "    count=True,\n",
    "    top=1,\n",
    "    searchQueryFilter=esh.Expression(\n",
    "        operator=esh.LogicalOperator.AND,\n",
    "        items=[\n",
    "            esh.ScopeComparison(values='Person'),\n",
    "            esh.Comparison(\n",
    "                property=esh.Property(property=['relLocation','location','position']),\n",
    "                operator=esh.ComparisonOperator.Search,\n",
    "                value= esh.StringValue(value='COVERED_BY:POLYGON((-0.06162643432617188 51.51034504891232,-0.062055587768554694 51.512428331778096,-0.059190988540649414 51.512675381440225,-0.06162643432617188 51.51034504891232))'),\n",
    "                    )]))\n",
    "\n",
    "print(f'ESH query statement: {so.to_statement()}')\n",
    "\n",
    "\n",
    "r = requests.post(f'{base_url}/v1/query/{selected}{TENANT_SUFFIX}/latest', json=[so.dict()])\n",
    "if r.status_code == 200:\n",
    "    res = r.json()[0]\n",
    "    if '@odata.count' in res:\n",
    "        print(f'Total count: {res[\"@odata.count\"]}')\n",
    "    if res and 'value' in res and res['value']:\n",
    "        df = pd.DataFrame.from_dict(res['value'])[['firstName', 'lastName','age']]\n",
    "        df.rename(columns={'firstName': 'First Name', 'lastName': 'Last Name', 'age':'Age'}, inplace=True)\n",
    "        display(df)\n",
    "    else:\n",
    "        print('No results')\n",
    "else:\n",
    "    print(f'Error during search. HTTP status code {r.status_code}')\n",
    "    print(r.json())"
   ]
  },
  {
   "cell_type": "markdown",
   "metadata": {},
   "source": [
    "## Search for all persons who are within london"
   ]
  },
  {
   "cell_type": "code",
   "execution_count": 49,
   "metadata": {},
   "outputs": [
    {
     "name": "stdout",
     "output_type": "stream",
     "text": [
      "ESH query statement: /$all?$top=6&$count=true&$apply=filter(Search.search(query='SCOPE:Person AND relLocation.location.position:COVERED_BY:POLYGON((-0.31173706054687506 51.618869218965926,0.10574340820312501 51.63762391020278,0.09887695312500001 51.36920841344186,-0.28976440429687506 51.40348936856666, -0.32135009765625006 51.5693878622646,-0.31173706054687506 51.618869218965926))'))\n",
      "Total count: 3\n"
     ]
    },
    {
     "data": {
      "text/html": [
       "<div>\n",
       "<style scoped>\n",
       "    .dataframe tbody tr th:only-of-type {\n",
       "        vertical-align: middle;\n",
       "    }\n",
       "\n",
       "    .dataframe tbody tr th {\n",
       "        vertical-align: top;\n",
       "    }\n",
       "\n",
       "    .dataframe thead th {\n",
       "        text-align: right;\n",
       "    }\n",
       "</style>\n",
       "<table border=\"1\" class=\"dataframe\">\n",
       "  <thead>\n",
       "    <tr style=\"text-align: right;\">\n",
       "      <th></th>\n",
       "      <th>First Name</th>\n",
       "      <th>Last Name</th>\n",
       "      <th>Age</th>\n",
       "    </tr>\n",
       "  </thead>\n",
       "  <tbody>\n",
       "    <tr>\n",
       "      <th>0</th>\n",
       "      <td>Joseph</td>\n",
       "      <td>Kennedy</td>\n",
       "      <td>36</td>\n",
       "    </tr>\n",
       "    <tr>\n",
       "      <th>1</th>\n",
       "      <td>Alex</td>\n",
       "      <td>Kennedy</td>\n",
       "      <td>57</td>\n",
       "    </tr>\n",
       "    <tr>\n",
       "      <th>2</th>\n",
       "      <td>Jerry</td>\n",
       "      <td>Roberts</td>\n",
       "      <td>37</td>\n",
       "    </tr>\n",
       "  </tbody>\n",
       "</table>\n",
       "</div>"
      ],
      "text/plain": [
       "  First Name Last Name  Age\n",
       "0     Joseph   Kennedy   36\n",
       "1       Alex   Kennedy   57\n",
       "2      Jerry   Roberts   37"
      ]
     },
     "metadata": {},
     "output_type": "display_data"
    }
   ],
   "source": [
    "so = esh.EshObject(\n",
    "    count=True,\n",
    "    top=6,\n",
    "    searchQueryFilter=esh.Expression(\n",
    "        operator=esh.LogicalOperator.AND,\n",
    "        items=[\n",
    "            esh.ScopeComparison(values='Person'),\n",
    "            esh.Comparison(\n",
    "                property=esh.Property(property=['relLocation','location','position']),\n",
    "                operator=esh.ComparisonOperator.Search, ##Polygon\n",
    "                value= esh.StringValue(value='COVERED_BY:POLYGON((-0.31173706054687506 51.618869218965926,0.10574340820312501 51.63762391020278,0.09887695312500001 51.36920841344186,-0.28976440429687506 51.40348936856666, -0.32135009765625006 51.5693878622646,-0.31173706054687506 51.618869218965926))'),\n",
    "                    )]))\n",
    "\n",
    "print(f'ESH query statement: {so.to_statement()}')\n",
    "\n",
    "\n",
    "r = requests.post(f'{base_url}/v1/query/{selected}{TENANT_SUFFIX}/latest', json=[so.dict()])\n",
    "if r.status_code == 200:\n",
    "    res = r.json()[0]\n",
    "    if '@odata.count' in res:\n",
    "        print(f'Total count: {res[\"@odata.count\"]}')\n",
    "    if res and 'value' in res and res['value']:\n",
    "        df = pd.DataFrame.from_dict(res['value'])[['firstName', 'lastName','age']]\n",
    "        df.rename(columns={'firstName': 'First Name', 'lastName': 'Last Name', 'age':'Age'}, inplace=True)\n",
    "        display(df)\n",
    "    else:\n",
    "        print('No results')\n",
    "else:\n",
    "    print(f'Error during search. HTTP status code {r.status_code}')\n",
    "    print(r.json()) "
   ]
  }
 ],
 "metadata": {
  "kernelspec": {
   "display_name": "Python 3.10.6 64-bit",
   "language": "python",
   "name": "python3"
  },
  "language_info": {
   "codemirror_mode": {
    "name": "ipython",
    "version": 3
   },
   "file_extension": ".py",
   "mimetype": "text/x-python",
   "name": "python",
   "nbconvert_exporter": "python",
   "pygments_lexer": "ipython3",
   "version": "3.10.6"
  },
  "orig_nbformat": 4,
  "vscode": {
   "interpreter": {
    "hash": "f8512305d299d2e9fc6762953164f306cccf922e65b280e5794fe70a35a18825"
   }
  }
 },
 "nbformat": 4,
 "nbformat_minor": 2
}
