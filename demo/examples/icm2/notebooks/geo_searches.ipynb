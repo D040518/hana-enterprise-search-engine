{
 "cells": [
  {
   "cell_type": "markdown",
   "metadata": {},
   "source": [
    "## This Notebook is for geometrics related searches and shows how the requests can be built"
   ]
  },
  {
   "cell_type": "markdown",
   "metadata": {},
   "source": [
    "### Initialize"
   ]
  },
  {
   "cell_type": "code",
   "execution_count": 4,
   "metadata": {},
   "outputs": [],
   "source": [
    "import os\n",
    "import sys\n",
    "from datetime import datetime\n",
    "\n",
    "import pandas as pd\n",
    "import requests\n",
    "\n",
    "sys.path.append(os.path.join(sys.path[0], '..', '..', '..', '..'))\n",
    "import src.esh_objects as esh\n",
    "from demo.shared.tools import TENANT_SUFFIX, get_base_url, get_root_path\n",
    "\n",
    "base_url = get_base_url()\n",
    "root_path = get_root_path()\n",
    "selected = sys.path[0].split(os.sep)[-2]\n",
    "\n",
    "\n",
    "\n",
    "def execute_search_query(query):\n",
    "    r = requests.post(f'{base_url}/v1/query/{selected}{TENANT_SUFFIX}/latest', json=[query])\n",
    "    if r.status_code == 200:\n",
    "        res = r.json()[0]\n",
    "        if '@odata.count' in res:\n",
    "            print(f'Total count: {res[\"@odata.count\"]}')\n",
    "        if res and 'value' in res and res['value']:\n",
    "            df = pd.DataFrame.from_dict(res['value'])[ ['entityDesc', 'position','street', 'houseNumber', 'city', 'postalCode', 'country']]\n",
    "            df.rename(columns={'entityDesc': 'Description',\n",
    "                  'position': 'Position', 'street': 'Street', 'houseNumber': 'House Number', 'city': 'City',\n",
    "                           'postalCode': 'Postal Code', 'country': 'Country'}, inplace=True)\n",
    "            display(df)\n",
    "        else:\n",
    "            print('No results')\n",
    "    else:\n",
    "        print(f'Error during search. HTTP status code {r.status_code}')\n",
    "        print(r.json())\n"
   ]
  },
  {
   "cell_type": "markdown",
   "metadata": {},
   "source": [
    "## Search for position Latitude='51.38026158483485'"
   ]
  },
  {
   "cell_type": "code",
   "execution_count": 5,
   "metadata": {},
   "outputs": [
    {
     "name": "stdout",
     "output_type": "stream",
     "text": [
      "ESH query statement: /$all?$top=2&$count=true&$apply=filter(Search.search(query='SCOPE:Location AND position:POINT(51.560760544987865 -0.35568797163571464)'))\n",
      "Total count: 2\n"
     ]
    },
    {
     "data": {
      "text/html": [
       "<div>\n",
       "<style scoped>\n",
       "    .dataframe tbody tr th:only-of-type {\n",
       "        vertical-align: middle;\n",
       "    }\n",
       "\n",
       "    .dataframe tbody tr th {\n",
       "        vertical-align: top;\n",
       "    }\n",
       "\n",
       "    .dataframe thead th {\n",
       "        text-align: right;\n",
       "    }\n",
       "</style>\n",
       "<table border=\"1\" class=\"dataframe\">\n",
       "  <thead>\n",
       "    <tr style=\"text-align: right;\">\n",
       "      <th></th>\n",
       "      <th>Description</th>\n",
       "      <th>Position</th>\n",
       "      <th>Street</th>\n",
       "      <th>House Number</th>\n",
       "      <th>City</th>\n",
       "      <th>Postal Code</th>\n",
       "      <th>Country</th>\n",
       "    </tr>\n",
       "  </thead>\n",
       "  <tbody>\n",
       "    <tr>\n",
       "      <th>0</th>\n",
       "      <td>Kennedy Cleaning Services Pty Ltd Premises</td>\n",
       "      <td>{'type': 'Point', 'coordinates': [51.560760544...</td>\n",
       "      <td>Reed</td>\n",
       "      <td>68</td>\n",
       "      <td>London</td>\n",
       "      <td>2900</td>\n",
       "      <td>England</td>\n",
       "    </tr>\n",
       "    <tr>\n",
       "      <th>1</th>\n",
       "      <td>Royal Constuction Pty Ltd Premises</td>\n",
       "      <td>{'type': 'Point', 'coordinates': [51.560760544...</td>\n",
       "      <td>Monaro</td>\n",
       "      <td>121</td>\n",
       "      <td>London</td>\n",
       "      <td>2620</td>\n",
       "      <td>England</td>\n",
       "    </tr>\n",
       "  </tbody>\n",
       "</table>\n",
       "</div>"
      ],
      "text/plain": [
       "                                  Description  \\\n",
       "0  Kennedy Cleaning Services Pty Ltd Premises   \n",
       "1          Royal Constuction Pty Ltd Premises   \n",
       "\n",
       "                                            Position  Street House Number  \\\n",
       "0  {'type': 'Point', 'coordinates': [51.560760544...    Reed           68   \n",
       "1  {'type': 'Point', 'coordinates': [51.560760544...  Monaro          121   \n",
       "\n",
       "     City Postal Code  Country  \n",
       "0  London        2900  England  \n",
       "1  London        2620  England  "
      ]
     },
     "metadata": {},
     "output_type": "display_data"
    }
   ],
   "source": [
    "so = esh.EshObject(\n",
    "    count=True,\n",
    "    top=2,\n",
    "    searchQueryFilter=esh.Expression(\n",
    "        operator=esh.LogicalOperator.AND,\n",
    "        items=[\n",
    "            esh.ScopeComparison(values='Location'),\n",
    "            esh.Comparison(\n",
    "                property=esh.Property(property='position'),\n",
    "                operator=esh.ComparisonOperator.Search,\n",
    "                value=esh.Point(\n",
    "                    coordinates=[51.560760544987865,-0.35568797163571464]))]))\n",
    "\n",
    "print(f'ESH query statement: {so.to_statement()}')\n",
    "execute_search_query(so.dict(exclude_none=True))\n"
   ]
  },
  {
   "cell_type": "markdown",
   "metadata": {},
   "source": [
    "## Search for the location coordinates of the person \"Alex Kennedy\""
   ]
  },
  {
   "cell_type": "code",
   "execution_count": 8,
   "metadata": {},
   "outputs": [
    {
     "name": "stdout",
     "output_type": "stream",
     "text": [
      "ESH query statement: /$all?$top=2&$count=true&$apply=filter(Search.search(query='SCOPE:Location AND relPerson.person.lastName:Kennedy AND relPerson.person.firstName:Alex'))\n",
      "Total count: 1\n"
     ]
    },
    {
     "data": {
      "text/html": [
       "<div>\n",
       "<style scoped>\n",
       "    .dataframe tbody tr th:only-of-type {\n",
       "        vertical-align: middle;\n",
       "    }\n",
       "\n",
       "    .dataframe tbody tr th {\n",
       "        vertical-align: top;\n",
       "    }\n",
       "\n",
       "    .dataframe thead th {\n",
       "        text-align: right;\n",
       "    }\n",
       "</style>\n",
       "<table border=\"1\" class=\"dataframe\">\n",
       "  <thead>\n",
       "    <tr style=\"text-align: right;\">\n",
       "      <th></th>\n",
       "      <th>Description</th>\n",
       "      <th>Position</th>\n",
       "      <th>Street</th>\n",
       "      <th>House Number</th>\n",
       "      <th>City</th>\n",
       "      <th>Postal Code</th>\n",
       "      <th>Country</th>\n",
       "    </tr>\n",
       "  </thead>\n",
       "  <tbody>\n",
       "    <tr>\n",
       "      <th>0</th>\n",
       "      <td>Alex Kennedy Residence</td>\n",
       "      <td>{'type': 'Point', 'coordinates': [51.324513706...</td>\n",
       "      <td>Ellerston</td>\n",
       "      <td>131</td>\n",
       "      <td>London</td>\n",
       "      <td>2905</td>\n",
       "      <td>England</td>\n",
       "    </tr>\n",
       "  </tbody>\n",
       "</table>\n",
       "</div>"
      ],
      "text/plain": [
       "              Description                                           Position  \\\n",
       "0  Alex Kennedy Residence  {'type': 'Point', 'coordinates': [51.324513706...   \n",
       "\n",
       "      Street House Number    City Postal Code  Country  \n",
       "0  Ellerston          131  London        2905  England  "
      ]
     },
     "metadata": {},
     "output_type": "display_data"
    }
   ],
   "source": [
    "so = esh.EshObject(\n",
    "    count=True,\n",
    "    top=2,\n",
    "    searchQueryFilter=esh.Expression(\n",
    "        operator=esh.LogicalOperator.AND,\n",
    "        items=[\n",
    "            esh.ScopeComparison(values='Location'),\n",
    "            esh.Comparison(\n",
    "                property=esh.Property(\n",
    "                    property=['relPerson', 'person', 'lastName']),\n",
    "                operator=esh.ComparisonOperator.Search,\n",
    "                value=esh.StringValue(\n",
    "                    value='Kennedy')),\n",
    "            esh.Comparison(\n",
    "                property=esh.Property(\n",
    "                    property=['relPerson', 'person', 'firstName']),\n",
    "                operator=esh.ComparisonOperator.Search,\n",
    "                value=esh.StringValue(\n",
    "                    value='Alex'))\n",
    "        ]))\n",
    "\n",
    "print(f'ESH query statement: {so.to_statement()}')\n",
    "execute_search_query(so.dict(exclude_none=True))\n"
   ]
  },
  {
   "cell_type": "markdown",
   "metadata": {},
   "source": [
    "## Search for exact coordinates 51.560760544987865 -0.35568797163571464"
   ]
  },
  {
   "cell_type": "code",
   "execution_count": 9,
   "metadata": {},
   "outputs": [
    {
     "name": "stdout",
     "output_type": "stream",
     "text": [
      "ESH query statement: /$all?$top=1&$count=true&$apply=filter(Search.search(query='SCOPE:Location AND position:POINT(51.560760544987865 -0.35568797163571464)'))\n",
      "Total count: 2\n"
     ]
    },
    {
     "data": {
      "text/html": [
       "<div>\n",
       "<style scoped>\n",
       "    .dataframe tbody tr th:only-of-type {\n",
       "        vertical-align: middle;\n",
       "    }\n",
       "\n",
       "    .dataframe tbody tr th {\n",
       "        vertical-align: top;\n",
       "    }\n",
       "\n",
       "    .dataframe thead th {\n",
       "        text-align: right;\n",
       "    }\n",
       "</style>\n",
       "<table border=\"1\" class=\"dataframe\">\n",
       "  <thead>\n",
       "    <tr style=\"text-align: right;\">\n",
       "      <th></th>\n",
       "      <th>Description</th>\n",
       "      <th>Position</th>\n",
       "      <th>Street</th>\n",
       "      <th>House Number</th>\n",
       "      <th>City</th>\n",
       "      <th>Postal Code</th>\n",
       "      <th>Country</th>\n",
       "    </tr>\n",
       "  </thead>\n",
       "  <tbody>\n",
       "    <tr>\n",
       "      <th>0</th>\n",
       "      <td>Kennedy Cleaning Services Pty Ltd Premises</td>\n",
       "      <td>{'type': 'Point', 'coordinates': [51.560760544...</td>\n",
       "      <td>Reed</td>\n",
       "      <td>68</td>\n",
       "      <td>London</td>\n",
       "      <td>2900</td>\n",
       "      <td>England</td>\n",
       "    </tr>\n",
       "  </tbody>\n",
       "</table>\n",
       "</div>"
      ],
      "text/plain": [
       "                                  Description  \\\n",
       "0  Kennedy Cleaning Services Pty Ltd Premises   \n",
       "\n",
       "                                            Position Street House Number  \\\n",
       "0  {'type': 'Point', 'coordinates': [51.560760544...   Reed           68   \n",
       "\n",
       "     City Postal Code  Country  \n",
       "0  London        2900  England  "
      ]
     },
     "metadata": {},
     "output_type": "display_data"
    }
   ],
   "source": [
    "so = esh.EshObject(\n",
    "    count=True,\n",
    "    top=1,\n",
    "    searchQueryFilter=esh.Expression(\n",
    "        operator=esh.LogicalOperator.AND,\n",
    "        items=[\n",
    "            esh.ScopeComparison(values='Location'),\n",
    "            esh.Comparison(\n",
    "                property=esh.Property(property='position'),\n",
    "                operator=esh.ComparisonOperator.Search,\n",
    "                value=esh.Point(\n",
    "                    coordinates=[51.560760544987865, -0.35568797163571464]))]))\n",
    "\n",
    "print(f'ESH query statement: {so.to_statement()}')\n",
    "execute_search_query(so.dict(exclude_none=True))"
   ]
  },
  {
   "cell_type": "markdown",
   "metadata": {},
   "source": [
    "## Search for person wihthin a radius of 10 km from coordinates [51.496683944068565, 0.08788500846256075]\n"
   ]
  },
  {
   "cell_type": "code",
   "execution_count": 12,
   "metadata": {},
   "outputs": [
    {
     "name": "stderr",
     "output_type": "stream",
     "text": [
      "<>:12: SyntaxWarning: str indices must be integers or slices, not tuple; perhaps you missed a comma?\n",
      "<>:12: SyntaxWarning: str indices must be integers or slices, not tuple; perhaps you missed a comma?\n",
      "C:\\Users\\I570329\\AppData\\Local\\Temp\\ipykernel_35220\\1459064029.py:12: SyntaxWarning: str indices must be integers or slices, not tuple; perhaps you missed a comma?\n",
      "  coordinates=':WITHIN:'[51.560760544987865, -0.35568797163571464]))]))\n",
      "C:\\Users\\I570329\\AppData\\Local\\Temp\\ipykernel_35220\\1459064029.py:12: SyntaxWarning: str indices must be integers or slices, not tuple; perhaps you missed a comma?\n",
      "  coordinates=':WITHIN:'[51.560760544987865, -0.35568797163571464]))]))\n",
      "C:\\Users\\I570329\\AppData\\Local\\Temp\\ipykernel_35220\\1459064029.py:12: SyntaxWarning: str indices must be integers or slices, not tuple; perhaps you missed a comma?\n",
      "  coordinates=':WITHIN:'[51.560760544987865, -0.35568797163571464]))]))\n"
     ]
    },
    {
     "ename": "TypeError",
     "evalue": "string indices must be integers",
     "output_type": "error",
     "traceback": [
      "\u001b[1;31m---------------------------------------------------------------------------\u001b[0m",
      "\u001b[1;31mTypeError\u001b[0m                                 Traceback (most recent call last)",
      "Cell \u001b[1;32mIn [12], line 12\u001b[0m\n\u001b[0;32m      1\u001b[0m so \u001b[39m=\u001b[39m esh\u001b[39m.\u001b[39mEshObject(\n\u001b[0;32m      2\u001b[0m     count\u001b[39m=\u001b[39m\u001b[39mTrue\u001b[39;00m,\n\u001b[0;32m      3\u001b[0m     top\u001b[39m=\u001b[39m\u001b[39m1\u001b[39m,\n\u001b[0;32m      4\u001b[0m     searchQueryFilter\u001b[39m=\u001b[39mesh\u001b[39m.\u001b[39mExpression(\n\u001b[0;32m      5\u001b[0m         operator\u001b[39m=\u001b[39mesh\u001b[39m.\u001b[39mLogicalOperator\u001b[39m.\u001b[39mAND,\n\u001b[0;32m      6\u001b[0m         items\u001b[39m=\u001b[39m[\n\u001b[0;32m      7\u001b[0m             esh\u001b[39m.\u001b[39mScopeComparison(values\u001b[39m=\u001b[39m\u001b[39m'\u001b[39m\u001b[39mPerson\u001b[39m\u001b[39m'\u001b[39m),\n\u001b[0;32m      8\u001b[0m             esh\u001b[39m.\u001b[39mComparison(\n\u001b[0;32m      9\u001b[0m                 \u001b[39mproperty\u001b[39m\u001b[39m=\u001b[39mesh\u001b[39m.\u001b[39mProperty(\u001b[39mproperty\u001b[39m\u001b[39m=\u001b[39m[\u001b[39m'\u001b[39m\u001b[39mrelLocation\u001b[39m\u001b[39m'\u001b[39m,\u001b[39m'\u001b[39m\u001b[39mlocation\u001b[39m\u001b[39m'\u001b[39m,\u001b[39m'\u001b[39m\u001b[39mposition\u001b[39m\u001b[39m'\u001b[39m]),\n\u001b[0;32m     10\u001b[0m                 operator\u001b[39m=\u001b[39mesh\u001b[39m.\u001b[39mComparisonOperator\u001b[39m.\u001b[39mSearch,\n\u001b[0;32m     11\u001b[0m                 value\u001b[39m=\u001b[39mesh\u001b[39m.\u001b[39mPoint(\n\u001b[1;32m---> 12\u001b[0m                     coordinates\u001b[39m=\u001b[39m\u001b[39m'\u001b[39;49m\u001b[39m:WITHIN:\u001b[39;49m\u001b[39m'\u001b[39;49m[\u001b[39m51.560760544987865\u001b[39;49m, \u001b[39m-\u001b[39;49m\u001b[39m0.35568797163571464\u001b[39;49m]))]))\n\u001b[0;32m     14\u001b[0m \u001b[39mprint\u001b[39m(\u001b[39mf\u001b[39m\u001b[39m'\u001b[39m\u001b[39mESH query statement: \u001b[39m\u001b[39m{\u001b[39;00mso\u001b[39m.\u001b[39mto_statement()\u001b[39m}\u001b[39;00m\u001b[39m'\u001b[39m)\n\u001b[0;32m     15\u001b[0m \u001b[39m# execute_search_query(so.dict(exclude_none=True))\u001b[39;00m\n",
      "\u001b[1;31mTypeError\u001b[0m: string indices must be integers"
     ]
    }
   ],
   "source": [
    "so = esh.EshObject(\n",
    "    count=True,\n",
    "    top=1,\n",
    "    searchQueryFilter=esh.Expression(\n",
    "        operator=esh.LogicalOperator.AND,\n",
    "        items=[\n",
    "            esh.ScopeComparison(values='Person'),\n",
    "            esh.Comparison(\n",
    "                property=esh.Property(property=['relLocation','location','position']),\n",
    "                operator=esh.ComparisonOperator.Search,\n",
    "                value=esh.Point(\n",
    "                    coordinates=[51.560760544987865, -0.35568797163571464]))]))\n",
    "\n",
    "print(f'ESH query statement: {so.to_statement()}')\n",
    "# execute_search_query(so.dict(exclude_none=True))\n",
    "\n",
    "\n",
    "r = requests.post(f'{base_url}/v1/query/{selected}{TENANT_SUFFIX}/latest', json=[so.dict()])\n",
    "if r.status_code == 200:\n",
    "    res = r.json()[0]\n",
    "    if '@odata.count' in res:\n",
    "        print(f'Total count: {res[\"@odata.count\"]}')\n",
    "    if res and 'value' in res and res['value']:\n",
    "        df = pd.DataFrame.from_dict(res['value'])[['firstName', 'lastName','age']]\n",
    "        df.rename(columns={'firstName': 'First Name', 'lastName': 'Last Name', 'age':'Age'}, inplace=True)\n",
    "        display(df)\n",
    "    else:\n",
    "        print('No results')\n",
    "else:\n",
    "    print(f'Error during search. HTTP status code {r.status_code}')\n",
    "    print(r.json())"
   ]
  }
 ],
 "metadata": {
  "kernelspec": {
   "display_name": "Python 3.10.6 64-bit",
   "language": "python",
   "name": "python3"
  },
  "language_info": {
   "codemirror_mode": {
    "name": "ipython",
    "version": 3
   },
   "file_extension": ".py",
   "mimetype": "text/x-python",
   "name": "python",
   "nbconvert_exporter": "python",
   "pygments_lexer": "ipython3",
   "version": "3.10.6"
  },
  "orig_nbformat": 4,
  "vscode": {
   "interpreter": {
    "hash": "f8512305d299d2e9fc6762953164f306cccf922e65b280e5794fe70a35a18825"
   }
  }
 },
 "nbformat": 4,
 "nbformat_minor": 2
}
