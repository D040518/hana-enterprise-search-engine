{
 "cells": [
  {
   "cell_type": "markdown",
   "metadata": {},
   "source": [
    "## This Notebook is for geometrics related searches and shows how the requests can be built"
   ]
  },
  {
   "cell_type": "markdown",
   "metadata": {},
   "source": [
    "### Initialize"
   ]
  },
  {
   "cell_type": "code",
   "execution_count": null,
   "metadata": {},
   "outputs": [],
   "source": [
    "import os\n",
    "import sys\n",
    "from datetime import datetime\n",
    "\n",
    "import pandas as pd\n",
    "import requests\n",
    "\n",
    "sys.path.append(os.path.join(sys.path[0], '..', '..', '..', '..'))\n",
    "import src.esh_objects as esh\n",
    "from demo.shared.tools import TENANT_SUFFIX, get_base_url, get_root_path\n",
    "\n",
    "base_url = get_base_url()\n",
    "root_path = get_root_path()\n",
    "selected = sys.path[0].split(os.sep)[-2]\n",
    "\n",
    "\n",
    "\n",
    "def execute_search_query(query):\n",
    "    r = requests.post(f'{base_url}/v1/query/{selected}{TENANT_SUFFIX}/latest', json=[query])\n",
    "    if r.status_code == 200:\n",
    "        res = r.json()[0]\n",
    "        if '@odata.count' in res:\n",
    "            print(f'Total count: {res[\"@odata.count\"]}')\n",
    "        if res and 'value' in res and res['value']:\n",
    "            df = pd.DataFrame.from_dict(res['value'])[ ['entityDesc', 'position','street', 'houseNumber', 'city', 'postalCode', 'country']]\n",
    "            df.rename(columns={'entityDesc': 'Description',\n",
    "                  'position': 'Position', 'street': 'Street', 'houseNumber': 'House Number', 'city': 'City',\n",
    "                           'postalCode': 'Postal Code', 'country': 'Country'}, inplace=True)\n",
    "            display(df)\n",
    "        else:\n",
    "            print('No results')\n",
    "    else:\n",
    "        print(f'Error during search. HTTP status code {r.status_code}')\n",
    "        print(r.json())\n"
   ]
  },
  {
   "cell_type": "markdown",
   "metadata": {},
   "source": [
    "## Search for position 8.642383987644662,49.30643058918701"
   ]
  },
  {
   "cell_type": "code",
   "execution_count": null,
   "metadata": {},
   "outputs": [],
   "source": [
    "so = esh.EshObject(\n",
    "    count=True,\n",
    "    top=2,\n",
    "    searchQueryFilter=esh.Expression(\n",
    "        operator=esh.LogicalOperator.AND,\n",
    "        items=[\n",
    "            esh.ScopeComparison(values='Location'),\n",
    "            esh.Comparison(\n",
    "                property=esh.Property(property='position'),\n",
    "                operator=esh.ComparisonOperator.Search,\n",
    "                value=esh.Point(\n",
    "                    coordinates=[8.642383987644662,49.30643058918701]))]))\n",
    "\n",
    "print(f'ESH query statement: {so.to_statement()}')\n",
    "execute_search_query(so.dict(exclude_none=True))\n"
   ]
  },
  {
   "cell_type": "markdown",
   "metadata": {},
   "source": [
    "## Search for the location coordinates of the person \"Alex Kennedy\""
   ]
  },
  {
   "cell_type": "code",
   "execution_count": null,
   "metadata": {},
   "outputs": [],
   "source": [
    "so = esh.EshObject(\n",
    "    count=True,\n",
    "    top=2,\n",
    "    searchQueryFilter=esh.Expression(\n",
    "        operator=esh.LogicalOperator.AND,\n",
    "        items=[\n",
    "            esh.ScopeComparison(values='Location'),\n",
    "            esh.Comparison(\n",
    "                property=esh.Property(\n",
    "                    property=['relPerson', 'person', 'lastName']),\n",
    "                operator=esh.ComparisonOperator.Search,\n",
    "                value=esh.StringValue(\n",
    "                    value='Kennedy')),\n",
    "            esh.Comparison(\n",
    "                property=esh.Property(\n",
    "                    property=['relPerson', 'person', 'firstName']),\n",
    "                operator=esh.ComparisonOperator.Search,\n",
    "                value=esh.StringValue(\n",
    "                    value='Alex'))\n",
    "        ]))\n",
    "\n",
    "print(f'ESH query statement: {so.to_statement()}')\n",
    "execute_search_query(so.dict(exclude_none=True))\n"
   ]
  },
  {
   "cell_type": "markdown",
   "metadata": {},
   "source": [
    "## Search for locations which is within 4 given coordinate points\n",
    "--> A polygon(several coordinates) is defined and it is searched for locations which is within these coordinates"
   ]
  },
  {
   "cell_type": "code",
   "execution_count": null,
   "metadata": {},
   "outputs": [],
   "source": [
    "so = esh.EshObject(\n",
    "    count=True,\n",
    "    top=2,\n",
    "    searchQueryFilter=esh.Expression(\n",
    "        operator=esh.LogicalOperator.AND,\n",
    "        items=[\n",
    "            esh.ScopeComparison(values='Location'),\n",
    "            esh.Comparison(\n",
    "                property=esh.Property(property='position'),\n",
    "                operator=esh.ComparisonOperator.Search,\n",
    "                value=esh.StringValue(value='COVERED_BY:POLYGON((-0.06162643432617188 51.51034504891232,-0.062055587768554694 51.512428331778096,-0.059190988540649414 51.512675381440225,-0.06162643432617188 51.51034504891232))'),\n",
    "            )\n",
    "        ]))\n",
    "\n",
    "print(f'ESH query statement: {so.to_statement()}')\n",
    "execute_search_query(so.dict(exclude_none=True))\n"
   ]
  },
  {
   "cell_type": "markdown",
   "metadata": {},
   "source": [
    "## Search for the person who is within a defined polygon \n"
   ]
  },
  {
   "cell_type": "code",
   "execution_count": null,
   "metadata": {},
   "outputs": [],
   "source": [
    "so = esh.EshObject(\n",
    "    count=True,\n",
    "    top=1,\n",
    "    searchQueryFilter=esh.Expression(\n",
    "        operator=esh.LogicalOperator.AND,\n",
    "        items=[\n",
    "            esh.ScopeComparison(values='Person'),\n",
    "            esh.Comparison(\n",
    "                property=esh.Property(property=['relLocation','location','position']),\n",
    "                operator=esh.ComparisonOperator.Search,\n",
    "                value= esh.StringValue(value='COVERED_BY:POLYGON((-0.06162643432617188 51.51034504891232,-0.062055587768554694 51.512428331778096,-0.059190988540649414 51.512675381440225,-0.06162643432617188 51.51034504891232))'),\n",
    "                    )]))\n",
    "\n",
    "print(f'ESH query statement: {so.to_statement()}')\n",
    "\n",
    "\n",
    "r = requests.post(f'{base_url}/v1/query/{selected}{TENANT_SUFFIX}/latest', json=[so.dict()])\n",
    "if r.status_code == 200:\n",
    "    res = r.json()[0]\n",
    "    if '@odata.count' in res:\n",
    "        print(f'Total count: {res[\"@odata.count\"]}')\n",
    "    if res and 'value' in res and res['value']:\n",
    "        df = pd.DataFrame.from_dict(res['value'])[['firstName', 'lastName','age']]\n",
    "        df.rename(columns={'firstName': 'First Name', 'lastName': 'Last Name', 'age':'Age'}, inplace=True)\n",
    "        display(df)\n",
    "    else:\n",
    "        print('No results')\n",
    "else:\n",
    "    print(f'Error during search. HTTP status code {r.status_code}')\n",
    "    print(r.json())"
   ]
  },
  {
   "cell_type": "markdown",
   "metadata": {},
   "source": [
    "## Search for all persons who are within london"
   ]
  },
  {
   "cell_type": "code",
   "execution_count": 49,
   "metadata": {},
   "outputs": [
    {
     "name": "stdout",
     "output_type": "stream",
     "text": [
      "ESH query statement: /$all?$top=6&$count=true&$apply=filter(Search.search(query='SCOPE:Person AND relLocation.location.position:COVERED_BY:POLYGON((-0.31173706054687506 51.618869218965926,0.10574340820312501 51.63762391020278,0.09887695312500001 51.36920841344186,-0.28976440429687506 51.40348936856666, -0.32135009765625006 51.5693878622646,-0.31173706054687506 51.618869218965926))'))\n",
      "Total count: 3\n"
     ]
    },
    {
     "data": {
      "text/html": [
       "<div>\n",
       "<style scoped>\n",
       "    .dataframe tbody tr th:only-of-type {\n",
       "        vertical-align: middle;\n",
       "    }\n",
       "\n",
       "    .dataframe tbody tr th {\n",
       "        vertical-align: top;\n",
       "    }\n",
       "\n",
       "    .dataframe thead th {\n",
       "        text-align: right;\n",
       "    }\n",
       "</style>\n",
       "<table border=\"1\" class=\"dataframe\">\n",
       "  <thead>\n",
       "    <tr style=\"text-align: right;\">\n",
       "      <th></th>\n",
       "      <th>First Name</th>\n",
       "      <th>Last Name</th>\n",
       "      <th>Age</th>\n",
       "    </tr>\n",
       "  </thead>\n",
       "  <tbody>\n",
       "    <tr>\n",
       "      <th>0</th>\n",
       "      <td>Joseph</td>\n",
       "      <td>Kennedy</td>\n",
       "      <td>36</td>\n",
       "    </tr>\n",
       "    <tr>\n",
       "      <th>1</th>\n",
       "      <td>Alex</td>\n",
       "      <td>Kennedy</td>\n",
       "      <td>57</td>\n",
       "    </tr>\n",
       "    <tr>\n",
       "      <th>2</th>\n",
       "      <td>Jerry</td>\n",
       "      <td>Roberts</td>\n",
       "      <td>37</td>\n",
       "    </tr>\n",
       "  </tbody>\n",
       "</table>\n",
       "</div>"
      ],
      "text/plain": [
       "  First Name Last Name  Age\n",
       "0     Joseph   Kennedy   36\n",
       "1       Alex   Kennedy   57\n",
       "2      Jerry   Roberts   37"
      ]
     },
     "metadata": {},
     "output_type": "display_data"
    }
   ],
   "source": [
    "so = esh.EshObject(\n",
    "    count=True,\n",
    "    top=6,\n",
    "    searchQueryFilter=esh.Expression(\n",
    "        operator=esh.LogicalOperator.AND,\n",
    "        items=[\n",
    "            esh.ScopeComparison(values='Person'),\n",
    "            esh.Comparison(\n",
    "                property=esh.Property(property=['relLocation','location','position']),\n",
    "                operator=esh.ComparisonOperator.Search,\n",
    "                value= esh.StringValue(value='COVERED_BY:POLYGON((-0.31173706054687506 51.618869218965926,0.10574340820312501 51.63762391020278,0.09887695312500001 51.36920841344186,-0.28976440429687506 51.40348936856666, -0.32135009765625006 51.5693878622646,-0.31173706054687506 51.618869218965926))'),\n",
    "                    )]))\n",
    "\n",
    "print(f'ESH query statement: {so.to_statement()}')\n",
    "\n",
    "\n",
    "r = requests.post(f'{base_url}/v1/query/{selected}{TENANT_SUFFIX}/latest', json=[so.dict()])\n",
    "if r.status_code == 200:\n",
    "    res = r.json()[0]\n",
    "    if '@odata.count' in res:\n",
    "        print(f'Total count: {res[\"@odata.count\"]}')\n",
    "    if res and 'value' in res and res['value']:\n",
    "        df = pd.DataFrame.from_dict(res['value'])[['firstName', 'lastName','age']]\n",
    "        df.rename(columns={'firstName': 'First Name', 'lastName': 'Last Name', 'age':'Age'}, inplace=True)\n",
    "        display(df)\n",
    "    else:\n",
    "        print('No results')\n",
    "else:\n",
    "    print(f'Error during search. HTTP status code {r.status_code}')\n",
    "    print(r.json())"
   ]
  }
 ],
 "metadata": {
  "kernelspec": {
   "display_name": "Python 3.10.6 64-bit",
   "language": "python",
   "name": "python3"
  },
  "language_info": {
   "codemirror_mode": {
    "name": "ipython",
    "version": 3
   },
   "file_extension": ".py",
   "mimetype": "text/x-python",
   "name": "python",
   "nbconvert_exporter": "python",
   "pygments_lexer": "ipython3",
   "version": "3.10.6"
  },
  "orig_nbformat": 4,
  "vscode": {
   "interpreter": {
    "hash": "f8512305d299d2e9fc6762953164f306cccf922e65b280e5794fe70a35a18825"
   }
  }
 },
 "nbformat": 4,
 "nbformat_minor": 2
}
