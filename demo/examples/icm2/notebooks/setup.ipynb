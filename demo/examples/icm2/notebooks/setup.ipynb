{
 "cells": [
  {
   "cell_type": "markdown",
   "metadata": {},
   "source": [
    "### Initialize"
   ]
  },
  {
   "cell_type": "code",
   "execution_count": 41,
   "metadata": {},
   "outputs": [],
   "source": [
    "from datetime import datetime\n",
    "import json\n",
    "import os\n",
    "import sys\n",
    "\n",
    "from ipywidgets import Dropdown\n",
    "import pandas as pd\n",
    "import requests\n",
    "\n",
    "from shared import print_response, StopExecution, get_base_url, get_root_path\n",
    "\n",
    "base_url = get_base_url()\n",
    "root_path = get_root_path()"
   ]
  },
  {
   "cell_type": "markdown",
   "metadata": {},
   "source": [
    "### Select example which should be used"
   ]
  },
  {
   "cell_type": "code",
   "execution_count": 42,
   "metadata": {},
   "outputs": [
    {
     "data": {
      "application/vnd.jupyter.widget-view+json": {
       "model_id": "f58eb208085348088304dde464ffcc6d",
       "version_major": 2,
       "version_minor": 0
      },
      "text/plain": [
       "Dropdown(description='Example:', options=('documents', 'icm2', 'messenger', 'offshore', 'simple'), value=None)"
      ]
     },
     "execution_count": 42,
     "metadata": {},
     "output_type": "execute_result"
    }
   ],
   "source": [
    "# example_path = os.path.join('..', 'examples')\n",
    "example_path = 'C:\\\\Users\\\\I570329\\\\Desktop\\\\Datenhaus\\\\hana-enterprise-search-engine-tests\\\\demo\\\\examples'\n",
    "options = next(os.walk(example_path, topdown=True))[1]\n",
    "selected = Dropdown(\n",
    "    options=options,\n",
    "    description='Example:',\n",
    "    value = None,\n",
    "    disabled=False,\n",
    ")\n",
    "selected"
   ]
  },
  {
   "cell_type": "markdown",
   "metadata": {},
   "source": [
    "### Create CSON (JSON-format) from CDS file (text format) using the CDS compiler"
   ]
  },
  {
   "cell_type": "code",
   "execution_count": 127,
   "metadata": {},
   "outputs": [
    {
     "name": "stdout",
     "output_type": "stream",
     "text": [
      "The following command line statement was executed to compile the example cds file to cson. Filename is temp\\icm2.model.json):\n",
      "cds compile C:\\Users\\I570329\\Desktop\\Datenhaus\\hana-enterprise-search-engine-tests\\demo\\examples\\icm2\\model.cds --to json > C:\\Users\\I570329\\Desktop\\Datenhaus\\hana-enterprise-search-engine-tests\\demo\\examples\\icm2\\temp\\model.json\n"
     ]
    }
   ],
   "source": [
    "from json import JSONDecodeError\n",
    "\n",
    "\n",
    "if selected.value:\n",
    "    # cds_file = os.path.join(root_path, '..', 'examples', selected.value, 'icm.model.cds')\n",
    "    cds_file = \"C:\\\\Users\\\\I570329\\\\Desktop\\\\Datenhaus\\\\hana-enterprise-search-engine-tests\\\\demo\\\\examples\\\\icm2\\\\model.cds\"\n",
    "    # cson_file = os.path.join(root_path, '..', 'temp', f'{selected.value}.model.json')\n",
    "    cson_file = \"C:\\\\Users\\\\I570329\\\\Desktop\\\\Datenhaus\\\\hana-enterprise-search-engine-tests\\\\demo\\\\examples\\\\icm2\\\\temp\\\\model.json\"\n",
    "    # data_file = os.path.join(root_path, '..', 'examples', selected.value, 'icm.data.json')\n",
    "    data_file = \"C:\\\\Users\\\\I570329\\\\Desktop\\\\Datenhaus\\\\hana-enterprise-search-engine-tests\\\\demo\\\\examples\\\\icm2\\\\data.json\"\n",
    "    command_line_statement = (f'cds compile {cds_file} --to json > {cson_file}')\n",
    "    os.system(command_line_statement)\n",
    "  \n",
    "    with open(cson_file, encoding='utf-8') as f:\n",
    "        cson = json.load(f)\n",
    "\n",
    "    print(f'The following command line statement was executed to compile the example cds file to cson. Filename is temp{os.sep}{selected.value}.model.json):')\n",
    "    print(command_line_statement)\n",
    "else:\n",
    "    print('No example selected')"
   ]
  },
  {
   "cell_type": "markdown",
   "metadata": {},
   "source": [
    "### List existing tenants"
   ]
  },
  {
   "cell_type": "code",
   "execution_count": 128,
   "metadata": {},
   "outputs": [
    {
     "name": "stdout",
     "output_type": "stream",
     "text": [
      "Info: No tenants exist\n"
     ]
    }
   ],
   "source": [
    "r = requests.get(f'{base_url}/v1/tenant')\n",
    "if r.status_code == 200:\n",
    "    existing_tenants = [{k:datetime.fromisoformat(v) if k == 'createdAt' else v \n",
    "        for k, v in w.items()} for w in r.json()]\n",
    "    if existing_tenants:\n",
    "        df = pd.DataFrame.from_dict(existing_tenants)\n",
    "        df.rename(columns={'name': 'Tenant Name', 'createdAt': 'Created At'}, inplace=True)\n",
    "        display(df)\n",
    "    else:\n",
    "        print('Info: No tenants exist')\n",
    "else:\n",
    "    print(f'Error. HTTP response status code {r.status_code}')"
   ]
  },
  {
   "cell_type": "markdown",
   "metadata": {},
   "source": [
    "### Create tenant"
   ]
  },
  {
   "cell_type": "code",
   "execution_count": 129,
   "metadata": {},
   "outputs": [
    {
     "name": "stdout",
     "output_type": "stream",
     "text": [
      "Success: Tenant 'icm2Example' successfully created\n"
     ]
    }
   ],
   "source": [
    "r = requests.post(f'{base_url}/v1/tenant/{selected.value}Example')\n",
    "print_response(r)"
   ]
  },
  {
   "cell_type": "markdown",
   "metadata": {},
   "source": [
    "### Check model consistency"
   ]
  },
  {
   "cell_type": "code",
   "execution_count": 130,
   "metadata": {},
   "outputs": [
    {
     "name": "stdout",
     "output_type": "stream",
     "text": [
      "Success: Model is consistent\n"
     ]
    }
   ],
   "source": [
    "r = requests.post(f'{base_url}/v1/deploy/{selected.value}', json=cson\\\n",
    "                    , params={'simulate': True})\n",
    "print_response(r)"
   ]
  },
  {
   "cell_type": "markdown",
   "metadata": {},
   "source": [
    "### Deploy"
   ]
  },
  {
   "cell_type": "code",
   "execution_count": 131,
   "metadata": {},
   "outputs": [
    {
     "name": "stdout",
     "output_type": "stream",
     "text": [
      "Success: Model successfully deployed\n"
     ]
    }
   ],
   "source": [
    "r = requests.post(f'{base_url}/v1/deploy/{selected.value}Example', json=cson)\n",
    "print_response(r)"
   ]
  },
  {
   "cell_type": "code",
   "execution_count": 126,
   "metadata": {},
   "outputs": [],
   "source": [
    "with open(data_file, encoding='utf-8') as p:\n",
    "    data = json.load(p)\n",
    "\n",
    "r = requests.post(f'{base_url}/v1/data/{selected.value}Example', json=data)\n",
    "\n",
    "# process_service_response(package, test, TestType.LOAD_DATA, r)\n",
    "\n",
    "if r.status_code == 200:\n",
    "\n",
    "    ids = r.json()\n",
    "\n",
    "    if ids:\n",
    "\n",
    "        # object_ids = deepcopy(ids)\n",
    "\n",
    "        r = requests.post(f'{base_url}/v1/read/{selected.value}Example', json= ids)\n",
    "\n",
    "        # process_service_response(package, test, TestType.READ_DATA, r)\n",
    "else:\n",
    "    print(\"Error:\", r.status_code)        "
   ]
  },
  {
   "cell_type": "code",
   "execution_count": 24,
   "metadata": {},
   "outputs": [
    {
     "name": "stdout",
     "output_type": "stream",
     "text": [
      "Error: Returned data are different to loaded data\n"
     ]
    }
   ],
   "source": [
    "if selected.value:\n",
    "    ids = r.json()\n",
    "    if ids:\n",
    "        r = requests.post(f'{base_url}/v1/read/{selected.value}Example', json=ids)\n",
    "        if r.status_code == 200:\n",
    "            data_read = r.json()\n",
    "            for typ, obj_list in data_read.items():\n",
    "                for obj in obj_list:\n",
    "                    if 'id' in obj:\n",
    "                        del obj['id']\n",
    "            if data_read == data:\n",
    "                print('Data successfully validated')\n",
    "            else:\n",
    "                print('Error: Returned data are different to loaded data')\n",
    "        else:\n",
    "            print('Error while reading data')"
   ]
  }
 ],
 "metadata": {
  "kernelspec": {
   "display_name": "Python 3.10.6 64-bit",
   "language": "python",
   "name": "python3"
  },
  "language_info": {
   "codemirror_mode": {
    "name": "ipython",
    "version": 3
   },
   "file_extension": ".py",
   "mimetype": "text/x-python",
   "name": "python",
   "nbconvert_exporter": "python",
   "pygments_lexer": "ipython3",
   "version": "3.10.6"
  },
  "orig_nbformat": 4,
  "vscode": {
   "interpreter": {
    "hash": "f8512305d299d2e9fc6762953164f306cccf922e65b280e5794fe70a35a18825"
   }
  }
 },
 "nbformat": 4,
 "nbformat_minor": 2
}
