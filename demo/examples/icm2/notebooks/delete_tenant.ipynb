{
 "cells": [
  {
   "cell_type": "markdown",
   "metadata": {},
   "source": [
    "### Initialize"
   ]
  },
  {
   "cell_type": "code",
   "execution_count": null,
   "metadata": {},
   "outputs": [],
   "source": [
    "import json\n",
    "import os\n",
    "import sys\n",
    "from ipywidgets import Dropdown\n",
    "import requests\n",
    "\n",
    "sys.path.append(os.path.join(sys.path[0], '..', '..', '..', '..'))\n",
    "from demo.shared.tools import TENANT_SUFFIX, get_base_url, get_root_path, StopExecution, print_response\n",
    "base_url = get_base_url()"
   ]
  },
  {
   "cell_type": "markdown",
   "metadata": {},
   "source": [
    "### Select tenant to be deleted"
   ]
  },
  {
   "cell_type": "code",
   "execution_count": null,
   "metadata": {},
   "outputs": [],
   "source": [
    "r = requests.get(f'{base_url}/v1/tenant')\n",
    "if r.status_code != 200:\n",
    "    print(f'Error. HTTP response status code {r.status_code}')\n",
    "    raise StopExecution\n",
    "\n",
    "options = [w['name'] for w in r.json()]\n",
    "selected = Dropdown(\n",
    "    options=options,\n",
    "    description='Example:',\n",
    "    value = None,\n",
    "    disabled=False,\n",
    ")\n",
    "selected    "
   ]
  },
  {
   "cell_type": "markdown",
   "metadata": {},
   "source": [
    "### Delete tenant"
   ]
  },
  {
   "cell_type": "code",
   "execution_count": null,
   "metadata": {},
   "outputs": [],
   "source": [
    "if selected.value:\n",
    "    r = requests.delete(f'{base_url}/v1/tenant/{selected.value}')\n",
    "    print_response(r)\n",
    "else:\n",
    "    print('There is no tenant to delete')"
   ]
  }
 ],
 "metadata": {
  "kernelspec": {
   "display_name": "Python 3.10.6 64-bit",
   "language": "python",
   "name": "python3"
  },
  "language_info": {
   "codemirror_mode": {
    "name": "ipython",
    "version": 3
   },
   "file_extension": ".py",
   "mimetype": "text/x-python",
   "name": "python",
   "nbconvert_exporter": "python",
   "pygments_lexer": "ipython3",
   "version": "3.10.6"
  },
  "orig_nbformat": 4,
  "vscode": {
   "interpreter": {
    "hash": "f8512305d299d2e9fc6762953164f306cccf922e65b280e5794fe70a35a18825"
   }
  }
 },
 "nbformat": 4,
 "nbformat_minor": 2
}
