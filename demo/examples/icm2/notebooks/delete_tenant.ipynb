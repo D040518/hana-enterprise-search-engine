{
 "cells": [
  {
   "cell_type": "markdown",
   "metadata": {},
   "source": [
    "### Initialize"
   ]
  },
  {
   "cell_type": "code",
   "execution_count": 4,
   "metadata": {},
   "outputs": [],
   "source": [
    "import json\n",
    "import os\n",
    "\n",
    "from ipywidgets import Dropdown\n",
    "import requests\n",
    "\n",
    "from shared import print_response, get_base_url, StopExecution\n",
    "base_url = get_base_url()"
   ]
  },
  {
   "cell_type": "markdown",
   "metadata": {},
   "source": [
    "### Select tenant to be deleted"
   ]
  },
  {
   "cell_type": "code",
   "execution_count": 5,
   "metadata": {},
   "outputs": [
    {
     "data": {
      "application/vnd.jupyter.widget-view+json": {
       "model_id": "9543f9555d1c432d933d76e77eff2a09",
       "version_major": 2,
       "version_minor": 0
      },
      "text/plain": [
       "Dropdown(description='Example:', options=('icm2Example',), value=None)"
      ]
     },
     "execution_count": 5,
     "metadata": {},
     "output_type": "execute_result"
    }
   ],
   "source": [
    "r = requests.get(f'{base_url}/v1/tenant')\n",
    "if r.status_code != 200:\n",
    "    print(f'Error. HTTP response status code {r.status_code}')\n",
    "    raise StopExecution\n",
    "\n",
    "options = [w['name'] for w in r.json()]\n",
    "selected = Dropdown(\n",
    "    options=options,\n",
    "    description='Example:',\n",
    "    value = None,\n",
    "    disabled=False,\n",
    ")\n",
    "selected    "
   ]
  },
  {
   "cell_type": "code",
   "execution_count": null,
   "metadata": {},
   "outputs": [],
   "source": []
  },
  {
   "cell_type": "markdown",
   "metadata": {},
   "source": [
    "### Delete tenant"
   ]
  },
  {
   "cell_type": "code",
   "execution_count": 27,
   "metadata": {},
   "outputs": [
    {
     "name": "stdout",
     "output_type": "stream",
     "text": [
      "Success: Tenant 'icm2Example' successfully deleted\n"
     ]
    }
   ],
   "source": [
    "if selected.value:\n",
    "    r = requests.delete(f'{base_url}/v1/tenant/{selected.value}')\n",
    "    print_response(r)\n",
    "else:\n",
    "    print('There is no tenant to delete')"
   ]
  }
 ],
 "metadata": {
  "kernelspec": {
   "display_name": "Python 3.10.6 64-bit",
   "language": "python",
   "name": "python3"
  },
  "language_info": {
   "codemirror_mode": {
    "name": "ipython",
    "version": 3
   },
   "file_extension": ".py",
   "mimetype": "text/x-python",
   "name": "python",
   "nbconvert_exporter": "python",
   "pygments_lexer": "ipython3",
   "version": "3.10.6"
  },
  "orig_nbformat": 4,
  "vscode": {
   "interpreter": {
    "hash": "f8512305d299d2e9fc6762953164f306cccf922e65b280e5794fe70a35a18825"
   }
  }
 },
 "nbformat": 4,
 "nbformat_minor": 2
}
