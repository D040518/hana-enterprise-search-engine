{
 "cells": [
  {
   "cell_type": "markdown",
   "metadata": {},
   "source": [
    "### Initialize"
   ]
  },
  {
   "cell_type": "code",
   "execution_count": 7,
   "metadata": {},
   "outputs": [
    {
     "name": "stdout",
     "output_type": "stream",
     "text": [
      "c:\\development\\github\\kfuerst\\hana-enterprise-search-engine\\demo\\examples\\simple\\notebooks\\..\\..\\..\n"
     ]
    },
    {
     "ename": "FileNotFoundError",
     "evalue": "[Errno 2] No such file or directory: 'c:\\\\development\\\\github\\\\kfuerst\\\\hana-enterprise-search-engine\\\\demo\\\\examples\\\\simple\\\\notebooks\\\\..\\\\..\\\\..\\\\..\\\\shared\\\\.config.json'",
     "output_type": "error",
     "traceback": [
      "\u001b[1;31m---------------------------------------------------------------------------\u001b[0m",
      "\u001b[1;31mFileNotFoundError\u001b[0m                         Traceback (most recent call last)",
      "Cell \u001b[1;32mIn [7], line 15\u001b[0m\n\u001b[0;32m     12\u001b[0m \u001b[38;5;28;01mfrom\u001b[39;00m \u001b[38;5;21;01mdemo\u001b[39;00m\u001b[38;5;21;01m.\u001b[39;00m\u001b[38;5;21;01mshared\u001b[39;00m\u001b[38;5;21;01m.\u001b[39;00m\u001b[38;5;21;01mtools\u001b[39;00m \u001b[38;5;28;01mimport\u001b[39;00m get_base_url, get_root_path, TENANT_SUFFIX\n\u001b[0;32m     13\u001b[0m \u001b[38;5;28;01mimport\u001b[39;00m \u001b[38;5;21;01msrc\u001b[39;00m\u001b[38;5;21;01m.\u001b[39;00m\u001b[38;5;21;01mesh_objects\u001b[39;00m \u001b[38;5;28;01mas\u001b[39;00m \u001b[38;5;21;01mesh\u001b[39;00m\n\u001b[1;32m---> 15\u001b[0m base_url \u001b[38;5;241m=\u001b[39m \u001b[43mget_base_url\u001b[49m\u001b[43m(\u001b[49m\u001b[43m)\u001b[49m\n\u001b[0;32m     16\u001b[0m root_path \u001b[38;5;241m=\u001b[39m get_root_path()\n\u001b[0;32m     17\u001b[0m example_name \u001b[38;5;241m=\u001b[39m sys\u001b[38;5;241m.\u001b[39mpath[\u001b[38;5;241m0\u001b[39m]\u001b[38;5;241m.\u001b[39msplit(os\u001b[38;5;241m.\u001b[39msep)[\u001b[38;5;241m-\u001b[39m\u001b[38;5;241m2\u001b[39m]\n",
      "File \u001b[1;32mc:\\development\\github\\kfuerst\\hana-enterprise-search-engine\\demo\\examples\\simple\\notebooks\\..\\..\\..\\..\\demo\\shared\\tools.py:24\u001b[0m, in \u001b[0;36mget_base_url\u001b[1;34m()\u001b[0m\n\u001b[0;32m     22\u001b[0m \u001b[39mdef\u001b[39;00m \u001b[39mget_base_url\u001b[39m():\n\u001b[0;32m     23\u001b[0m     config_file \u001b[39m=\u001b[39m os\u001b[39m.\u001b[39mpath\u001b[39m.\u001b[39mjoin(sys\u001b[39m.\u001b[39mpath[\u001b[39m-\u001b[39m\u001b[39m1\u001b[39m], \u001b[39m'\u001b[39m\u001b[39mshared\u001b[39m\u001b[39m'\u001b[39m, \u001b[39m'\u001b[39m\u001b[39m.config.json\u001b[39m\u001b[39m'\u001b[39m)\n\u001b[1;32m---> 24\u001b[0m     \u001b[39mwith\u001b[39;00m \u001b[39mopen\u001b[39;49m(config_file, encoding\u001b[39m=\u001b[39;49m\u001b[39m'\u001b[39;49m\u001b[39mutf-8\u001b[39;49m\u001b[39m'\u001b[39;49m) \u001b[39mas\u001b[39;00m f:\n\u001b[0;32m     25\u001b[0m         config \u001b[39m=\u001b[39m json\u001b[39m.\u001b[39mload(f)\n\u001b[0;32m     26\u001b[0m     \u001b[39mreturn\u001b[39;00m  \u001b[39mf\u001b[39m\u001b[39m\"\u001b[39m\u001b[39mhttp://\u001b[39m\u001b[39m{\u001b[39;00mconfig[\u001b[39m'\u001b[39m\u001b[39mserver\u001b[39m\u001b[39m'\u001b[39m][\u001b[39m'\u001b[39m\u001b[39mhost\u001b[39m\u001b[39m'\u001b[39m]\u001b[39m}\u001b[39;00m\u001b[39m:\u001b[39m\u001b[39m{\u001b[39;00mconfig[\u001b[39m'\u001b[39m\u001b[39mserver\u001b[39m\u001b[39m'\u001b[39m][\u001b[39m'\u001b[39m\u001b[39mport\u001b[39m\u001b[39m'\u001b[39m]\u001b[39m}\u001b[39;00m\u001b[39m\"\u001b[39m\n",
      "\u001b[1;31mFileNotFoundError\u001b[0m: [Errno 2] No such file or directory: 'c:\\\\development\\\\github\\\\kfuerst\\\\hana-enterprise-search-engine\\\\demo\\\\examples\\\\simple\\\\notebooks\\\\..\\\\..\\\\..\\\\..\\\\shared\\\\.config.json'"
     ]
    }
   ],
   "source": [
    "from datetime import datetime\n",
    "import json\n",
    "import os\n",
    "import sys\n",
    "\n",
    "from ipywidgets import Dropdown\n",
    "import pandas as pd\n",
    "import requests\n",
    "\n",
    "sys.path.append(os.path.join(sys.path[0], '..', '..', '..', '..'))\n",
    "from demo.shared.tools import get_base_url, get_root_path, TENANT_SUFFIX\n",
    "import src.esh_objects as esh\n",
    "\n",
    "base_url = get_base_url()\n",
    "root_path = get_root_path()\n",
    "example_name = sys.path[0].split(os.sep)[-2]\n",
    "\n",
    "def execute_search_query(query):\n",
    "    r = requests.post(f'{base_url}/v1/query/{example_name}{TENANT_SUFFIX}/latest', json=[query])\n",
    "    if r.status_code == 200:\n",
    "        res = r.json()[0]\n",
    "        if '@odata.count' in res:\n",
    "            print(f'Total count: {res[\"@odata.count\"]}')\n",
    "        if res and 'value' in res and res['value']:\n",
    "            df = pd.DataFrame.from_dict(res['value'])[['firstName', 'lastName']]\n",
    "            df.rename(columns={'firstName': 'First Name', 'lastName': 'Last Name'}, inplace=True)\n",
    "            display(df)\n",
    "        else:\n",
    "            print('No results')\n",
    "    else:\n",
    "        print(f'Error during search. HTTP status code {r.status_code}')\n",
    "        print(r.json())"
   ]
  },
  {
   "cell_type": "markdown",
   "metadata": {},
   "source": [
    "### Search for first name \"Jane\" and last name \"Doe\""
   ]
  },
  {
   "cell_type": "code",
   "execution_count": 2,
   "metadata": {},
   "outputs": [
    {
     "name": "stdout",
     "output_type": "stream",
     "text": [
      "ESH query statement: /$all?$top=1&$count=true&$apply=filter(Search.search(query='SCOPE:Person AND lastName:Doe AND firstName:Jane'))\n",
      "Total count: 2\n"
     ]
    },
    {
     "data": {
      "text/html": [
       "<div>\n",
       "<style scoped>\n",
       "    .dataframe tbody tr th:only-of-type {\n",
       "        vertical-align: middle;\n",
       "    }\n",
       "\n",
       "    .dataframe tbody tr th {\n",
       "        vertical-align: top;\n",
       "    }\n",
       "\n",
       "    .dataframe thead th {\n",
       "        text-align: right;\n",
       "    }\n",
       "</style>\n",
       "<table border=\"1\" class=\"dataframe\">\n",
       "  <thead>\n",
       "    <tr style=\"text-align: right;\">\n",
       "      <th></th>\n",
       "      <th>First Name</th>\n",
       "      <th>Last Name</th>\n",
       "    </tr>\n",
       "  </thead>\n",
       "  <tbody>\n",
       "    <tr>\n",
       "      <th>0</th>\n",
       "      <td>Jane</td>\n",
       "      <td>Doe</td>\n",
       "    </tr>\n",
       "  </tbody>\n",
       "</table>\n",
       "</div>"
      ],
      "text/plain": [
       "  First Name Last Name\n",
       "0       Jane       Doe"
      ]
     },
     "metadata": {},
     "output_type": "display_data"
    }
   ],
   "source": [
    "so = esh.EshObject(\n",
    "    count=True,\n",
    "    top=1,\n",
    "    searchQueryFilter=esh.Expression(\n",
    "        operator=esh.LogicalOperator.AND,\n",
    "        items= [\n",
    "            esh.ScopeComparison(values='Person'),\n",
    "            esh.Comparison(\n",
    "                property= esh.Property(property='lastName'),\n",
    "                operator= esh.ComparisonOperator.Search,\n",
    "                value= esh.StringValue(value='Doe')),\n",
    "            esh.Comparison(\n",
    "                property= esh.Property(property='firstName'),\n",
    "                operator= esh.ComparisonOperator.Search,\n",
    "                value= esh.StringValue(value='Jane'))]))\n",
    "\n",
    "print(f'ESH query statement: {so.to_statement()}')\n",
    "execute_search_query(so.dict(exclude_none=True))"
   ]
  },
  {
   "cell_type": "markdown",
   "metadata": {},
   "source": [
    "### Search for first name \"Jane\""
   ]
  },
  {
   "cell_type": "code",
   "execution_count": 3,
   "metadata": {},
   "outputs": [
    {
     "name": "stdout",
     "output_type": "stream",
     "text": [
      "ESH query statement: /$all?$top=1&$count=true&$apply=filter(Search.search(query='SCOPE:Person AND firstName:Jane'))\n",
      "Total count: 2\n"
     ]
    },
    {
     "data": {
      "text/html": [
       "<div>\n",
       "<style scoped>\n",
       "    .dataframe tbody tr th:only-of-type {\n",
       "        vertical-align: middle;\n",
       "    }\n",
       "\n",
       "    .dataframe tbody tr th {\n",
       "        vertical-align: top;\n",
       "    }\n",
       "\n",
       "    .dataframe thead th {\n",
       "        text-align: right;\n",
       "    }\n",
       "</style>\n",
       "<table border=\"1\" class=\"dataframe\">\n",
       "  <thead>\n",
       "    <tr style=\"text-align: right;\">\n",
       "      <th></th>\n",
       "      <th>First Name</th>\n",
       "      <th>Last Name</th>\n",
       "    </tr>\n",
       "  </thead>\n",
       "  <tbody>\n",
       "    <tr>\n",
       "      <th>0</th>\n",
       "      <td>Jane</td>\n",
       "      <td>Doe</td>\n",
       "    </tr>\n",
       "  </tbody>\n",
       "</table>\n",
       "</div>"
      ],
      "text/plain": [
       "  First Name Last Name\n",
       "0       Jane       Doe"
      ]
     },
     "metadata": {},
     "output_type": "display_data"
    }
   ],
   "source": [
    "so = esh.EshObject(\n",
    "    count=True,\n",
    "    top=1,\n",
    "    searchQueryFilter=esh.Expression(\n",
    "        operator=esh.LogicalOperator.AND,\n",
    "        items= [\n",
    "            esh.ScopeComparison(values='Person'),\n",
    "            esh.Comparison(\n",
    "                property= esh.Property(property='firstName'),\n",
    "                operator= esh.ComparisonOperator.Search,\n",
    "                value= esh.StringValue(value='Jane'))]))\n",
    "\n",
    "print(f'ESH query statement: {so.to_statement()}')\n",
    "execute_search_query(so.dict(exclude_none=True))"
   ]
  },
  {
   "cell_type": "markdown",
   "metadata": {},
   "source": [
    "### Fuzzy-search for first name \"June\""
   ]
  },
  {
   "cell_type": "code",
   "execution_count": 5,
   "metadata": {},
   "outputs": [
    {
     "name": "stdout",
     "output_type": "stream",
     "text": [
      "ESH query statement: /$all?$top=1&$count=true&$apply=filter(Search.search(query='SCOPE:Person AND firstName:June~0.7'))\n",
      "Total count: 2\n"
     ]
    },
    {
     "data": {
      "text/html": [
       "<div>\n",
       "<style scoped>\n",
       "    .dataframe tbody tr th:only-of-type {\n",
       "        vertical-align: middle;\n",
       "    }\n",
       "\n",
       "    .dataframe tbody tr th {\n",
       "        vertical-align: top;\n",
       "    }\n",
       "\n",
       "    .dataframe thead th {\n",
       "        text-align: right;\n",
       "    }\n",
       "</style>\n",
       "<table border=\"1\" class=\"dataframe\">\n",
       "  <thead>\n",
       "    <tr style=\"text-align: right;\">\n",
       "      <th></th>\n",
       "      <th>First Name</th>\n",
       "      <th>Last Name</th>\n",
       "    </tr>\n",
       "  </thead>\n",
       "  <tbody>\n",
       "    <tr>\n",
       "      <th>0</th>\n",
       "      <td>Jane</td>\n",
       "      <td>Doe</td>\n",
       "    </tr>\n",
       "  </tbody>\n",
       "</table>\n",
       "</div>"
      ],
      "text/plain": [
       "  First Name Last Name\n",
       "0       Jane       Doe"
      ]
     },
     "metadata": {},
     "output_type": "display_data"
    }
   ],
   "source": [
    "so = esh.EshObject(\n",
    "    count=True,\n",
    "    top=1,\n",
    "    searchQueryFilter=esh.Expression(\n",
    "        operator=esh.LogicalOperator.AND,\n",
    "        items= [\n",
    "            esh.ScopeComparison(values='Person'),\n",
    "            esh.Comparison(\n",
    "                property= esh.Property(property='firstName'),\n",
    "                operator= esh.ComparisonOperator.Search,\n",
    "                value= esh.StringValue(\n",
    "                    value='June',\n",
    "                    searchOptions=esh.SearchOptions(fuzzinessThreshold=0.7)\n",
    "                )\n",
    "            )\n",
    "        ]\n",
    "    )\n",
    ")\n",
    "\n",
    "print(f'ESH query statement: {so.to_statement()}')\n",
    "execute_search_query(so.dict(exclude_none=True))"
   ]
  },
  {
   "cell_type": "markdown",
   "metadata": {},
   "source": [
    "### Nested query"
   ]
  },
  {
   "cell_type": "code",
   "execution_count": 9,
   "metadata": {},
   "outputs": [
    {
     "name": "stdout",
     "output_type": "stream",
     "text": [
      "ESH query statement: /$all?$top=10&$count=true&$apply=filter(Search.search(query='SCOPE:Person AND ((((lastName:Doe AND firstName:John))) OR ((lastName:Doe AND firstName:Jane)))'))\n",
      "Total count: 4\n"
     ]
    },
    {
     "data": {
      "text/html": [
       "<div>\n",
       "<style scoped>\n",
       "    .dataframe tbody tr th:only-of-type {\n",
       "        vertical-align: middle;\n",
       "    }\n",
       "\n",
       "    .dataframe tbody tr th {\n",
       "        vertical-align: top;\n",
       "    }\n",
       "\n",
       "    .dataframe thead th {\n",
       "        text-align: right;\n",
       "    }\n",
       "</style>\n",
       "<table border=\"1\" class=\"dataframe\">\n",
       "  <thead>\n",
       "    <tr style=\"text-align: right;\">\n",
       "      <th></th>\n",
       "      <th>First Name</th>\n",
       "      <th>Last Name</th>\n",
       "    </tr>\n",
       "  </thead>\n",
       "  <tbody>\n",
       "    <tr>\n",
       "      <th>0</th>\n",
       "      <td>John</td>\n",
       "      <td>Doe</td>\n",
       "    </tr>\n",
       "    <tr>\n",
       "      <th>1</th>\n",
       "      <td>Jane</td>\n",
       "      <td>Doe</td>\n",
       "    </tr>\n",
       "    <tr>\n",
       "      <th>2</th>\n",
       "      <td>John</td>\n",
       "      <td>Doe</td>\n",
       "    </tr>\n",
       "    <tr>\n",
       "      <th>3</th>\n",
       "      <td>Jane</td>\n",
       "      <td>Doe</td>\n",
       "    </tr>\n",
       "  </tbody>\n",
       "</table>\n",
       "</div>"
      ],
      "text/plain": [
       "  First Name Last Name\n",
       "0       John       Doe\n",
       "1       Jane       Doe\n",
       "2       John       Doe\n",
       "3       Jane       Doe"
      ]
     },
     "metadata": {},
     "output_type": "display_data"
    }
   ],
   "source": [
    "so = esh.EshObject(\n",
    "    count=True,\n",
    "    top=10,\n",
    "    searchQueryFilter=esh.Expression(\n",
    "        operator=esh.LogicalOperator.AND,\n",
    "        items= [\n",
    "            esh.ScopeComparison(values='Person'),\n",
    "            esh.Expression(\n",
    "                operator=esh.LogicalOperator.OR,\n",
    "                items=[\n",
    "                    esh.Expression(\n",
    "                        operator=esh.LogicalOperator.ROW,\n",
    "                        items=[\n",
    "                            esh.Expression(\n",
    "                                operator=esh.LogicalOperator.AND,\n",
    "                                items= [\n",
    "                                    esh.Comparison(\n",
    "                                        property= esh.Property(property='lastName'),\n",
    "                                        operator= esh.ComparisonOperator.Search,\n",
    "                                        value= esh.StringValue(value='Doe')),\n",
    "                                    esh.Comparison(\n",
    "                                        property= esh.Property(property='firstName'),\n",
    "                                        operator= esh.ComparisonOperator.Search,\n",
    "                                        value= esh.StringValue(value='John'))\n",
    "                                        ]\n",
    "                            )\n",
    "                        ]\n",
    "                    ),\n",
    "                    esh.Expression(\n",
    "                        operator=esh.LogicalOperator.ROW,\n",
    "                        items=[\n",
    "                            esh.Expression(\n",
    "                                operator=esh.LogicalOperator.AND,\n",
    "                                items= [\n",
    "                                    esh.Comparison(\n",
    "                                        property= esh.Property(property='lastName'),\n",
    "                                        operator= esh.ComparisonOperator.Search,\n",
    "                                        value= esh.StringValue(value='Doe')),\n",
    "                                    esh.Comparison(\n",
    "                                        property= esh.Property(property='firstName'),\n",
    "                                        operator= esh.ComparisonOperator.Search,\n",
    "                                        value= esh.StringValue(value='Jane'))\n",
    "                                        ]\n",
    "                            )\n",
    "                        ]\n",
    "                    )\n",
    "                ]\n",
    "            )\n",
    "        ]\n",
    "    )\n",
    ")\n",
    "\n",
    "print(f'ESH query statement: {so.to_statement()}')\n",
    "execute_search_query(so.dict(exclude_none=True))"
   ]
  }
 ],
 "metadata": {
  "kernelspec": {
   "display_name": "Python 3.10.7 64-bit",
   "language": "python",
   "name": "python3"
  },
  "language_info": {
   "codemirror_mode": {
    "name": "ipython",
    "version": 3
   },
   "file_extension": ".py",
   "mimetype": "text/x-python",
   "name": "python",
   "nbconvert_exporter": "python",
   "pygments_lexer": "ipython3",
   "version": "3.10.8"
  },
  "orig_nbformat": 4,
  "vscode": {
   "interpreter": {
    "hash": "26de051ba29f2982a8de78e945f0abaf191376122a1563185a90213a26c5da77"
   }
  }
 },
 "nbformat": 4,
 "nbformat_minor": 2
}
