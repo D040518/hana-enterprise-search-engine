{
 "cells": [
  {
   "cell_type": "markdown",
   "metadata": {},
   "source": [
    "### Initialize"
   ]
  },
  {
   "cell_type": "code",
   "execution_count": 21,
   "metadata": {},
   "outputs": [
    {
     "ename": "ImportError",
     "evalue": "cannot import name 'TENANT_SUFFIX' from 'shared.tools' (c:\\development\\github\\kfuerst\\hana-enterprise-search-engine\\demo\\notebooks\\..\\shared\\tools.py)",
     "output_type": "error",
     "traceback": [
      "\u001b[1;31m---------------------------------------------------------------------------\u001b[0m",
      "\u001b[1;31mImportError\u001b[0m                               Traceback (most recent call last)",
      "Cell \u001b[1;32mIn [21], line 11\u001b[0m\n\u001b[0;32m      8\u001b[0m \u001b[38;5;28;01mimport\u001b[39;00m \u001b[38;5;21;01mrequests\u001b[39;00m\n\u001b[0;32m     10\u001b[0m sys\u001b[38;5;241m.\u001b[39mpath\u001b[38;5;241m.\u001b[39mappend(os\u001b[38;5;241m.\u001b[39mpath\u001b[38;5;241m.\u001b[39mjoin(sys\u001b[38;5;241m.\u001b[39mpath[\u001b[38;5;241m0\u001b[39m], \u001b[38;5;124m'\u001b[39m\u001b[38;5;124m..\u001b[39m\u001b[38;5;124m'\u001b[39m))\n\u001b[1;32m---> 11\u001b[0m \u001b[38;5;28;01mfrom\u001b[39;00m \u001b[38;5;21;01mshared\u001b[39;00m\u001b[38;5;21;01m.\u001b[39;00m\u001b[38;5;21;01mtools\u001b[39;00m \u001b[38;5;28;01mimport\u001b[39;00m print_response, StopExecution, get_base_url, get_root_path, TENANT_SUFFIX\n\u001b[0;32m     13\u001b[0m base_url \u001b[38;5;241m=\u001b[39m get_base_url()\n\u001b[0;32m     14\u001b[0m root_path \u001b[38;5;241m=\u001b[39m get_root_path()\n",
      "\u001b[1;31mImportError\u001b[0m: cannot import name 'TENANT_SUFFIX' from 'shared.tools' (c:\\development\\github\\kfuerst\\hana-enterprise-search-engine\\demo\\notebooks\\..\\shared\\tools.py)"
     ]
    }
   ],
   "source": [
    "from datetime import datetime\n",
    "import json\n",
    "import os\n",
    "import sys\n",
    "\n",
    "from ipywidgets import Dropdown\n",
    "import pandas as pd\n",
    "import requests\n",
    "\n",
    "sys.path.append(os.path.join(sys.path[0], '..'))\n",
    "from shared.tools import print_response, StopExecution, get_base_url, get_root_path, TENANT_SUFFIX\n",
    "\n",
    "base_url = get_base_url()\n",
    "root_path = get_root_path()"
   ]
  },
  {
   "cell_type": "markdown",
   "metadata": {},
   "source": [
    "### Select example which should be used"
   ]
  },
  {
   "cell_type": "code",
   "execution_count": 9,
   "metadata": {},
   "outputs": [
    {
     "data": {
      "application/vnd.jupyter.widget-view+json": {
       "model_id": "3a0a26da215e4436b8d35a6c513173f0",
       "version_major": 2,
       "version_minor": 0
      },
      "text/plain": [
       "Dropdown(description='Select:', options=('simple',), value=None)"
      ]
     },
     "execution_count": 9,
     "metadata": {},
     "output_type": "execute_result"
    }
   ],
   "source": [
    "example_path = os.path.join('..', 'examples')\n",
    "options = next(os.walk(example_path))[1]\n",
    "selected = Dropdown(\n",
    "    options=options,\n",
    "    description='Select:',\n",
    "    value = None,\n",
    "    disabled=False,\n",
    ")\n",
    "selected"
   ]
  },
  {
   "cell_type": "markdown",
   "metadata": {},
   "source": [
    "### Create CSON (JSON-format) from CDS file (text format) using the CDS compiler"
   ]
  },
  {
   "cell_type": "code",
   "execution_count": 13,
   "metadata": {},
   "outputs": [
    {
     "name": "stdout",
     "output_type": "stream",
     "text": [
      "The following command line statement was executed to compile the example cds file to cson. Filename is temp\\simple.model.json):\n",
      "cds compile c:\\development\\github\\kfuerst\\hana-enterprise-search-engine\\demo\\notebooks\\..\\examples\\simple\\model.cds --to json -o c:\\development\\github\\kfuerst\\hana-enterprise-search-engine\\demo\\notebooks\\..\\shared\\temp\\simple.model.json\n"
     ]
    }
   ],
   "source": [
    "if selected.value:\n",
    "    cson_file_direct = os.path.join(root_path, '..', 'examples', selected.value, 'model.json')\n",
    "    if os.path.exists(cson_file_direct):\n",
    "        with open(cson_file_direct, encoding='utf-8') as f:\n",
    "            cson = json.load(f)\n",
    "    else:\n",
    "        cds_file = os.path.join(root_path, '..', 'examples', selected.value, 'model.cds')\n",
    "        cson_file = os.path.join(root_path, '..', 'shared', 'temp', f'{selected.value}.model.json')\n",
    "        command_line_statement = (f'cds compile {cds_file} --to json -o {cson_file}')\n",
    "        os.system(command_line_statement)\n",
    "        with open(cson_file, encoding='utf-8') as f:\n",
    "            cson = json.load(f)\n",
    "        print(f'The following command line statement was executed to compile the example cds file to cson. Filename is temp{os.sep}{selected.value}.model.json):')\n",
    "        print(command_line_statement)\n",
    "    data_file = os.path.join(root_path, '..', 'examples', selected.value, 'data.json')\n",
    "else:\n",
    "    print('No example selected')"
   ]
  },
  {
   "cell_type": "markdown",
   "metadata": {},
   "source": [
    "### List existing tenants"
   ]
  },
  {
   "cell_type": "code",
   "execution_count": 14,
   "metadata": {},
   "outputs": [
    {
     "data": {
      "text/html": [
       "<div>\n",
       "<style scoped>\n",
       "    .dataframe tbody tr th:only-of-type {\n",
       "        vertical-align: middle;\n",
       "    }\n",
       "\n",
       "    .dataframe tbody tr th {\n",
       "        vertical-align: top;\n",
       "    }\n",
       "\n",
       "    .dataframe thead th {\n",
       "        text-align: right;\n",
       "    }\n",
       "</style>\n",
       "<table border=\"1\" class=\"dataframe\">\n",
       "  <thead>\n",
       "    <tr style=\"text-align: right;\">\n",
       "      <th></th>\n",
       "      <th>Tenant Name</th>\n",
       "      <th>Created At</th>\n",
       "    </tr>\n",
       "  </thead>\n",
       "  <tbody>\n",
       "    <tr>\n",
       "      <th>0</th>\n",
       "      <td>sizingMeasurements</td>\n",
       "      <td>2022-09-23 14:18:55.853</td>\n",
       "    </tr>\n",
       "    <tr>\n",
       "      <th>1</th>\n",
       "      <td>icm2Example</td>\n",
       "      <td>2022-10-10 15:14:41.993</td>\n",
       "    </tr>\n",
       "    <tr>\n",
       "      <th>2</th>\n",
       "      <td>internalImpExample</td>\n",
       "      <td>2022-10-10 19:54:33.000</td>\n",
       "    </tr>\n",
       "    <tr>\n",
       "      <th>3</th>\n",
       "      <td>internalImp</td>\n",
       "      <td>2022-10-12 18:09:11.676</td>\n",
       "    </tr>\n",
       "  </tbody>\n",
       "</table>\n",
       "</div>"
      ],
      "text/plain": [
       "          Tenant Name              Created At\n",
       "0  sizingMeasurements 2022-09-23 14:18:55.853\n",
       "1         icm2Example 2022-10-10 15:14:41.993\n",
       "2  internalImpExample 2022-10-10 19:54:33.000\n",
       "3         internalImp 2022-10-12 18:09:11.676"
      ]
     },
     "metadata": {},
     "output_type": "display_data"
    }
   ],
   "source": [
    "r = requests.get(f'{base_url}/v1/tenant')\n",
    "if r.status_code == 200:\n",
    "    existing_tenants = [{k:datetime.fromisoformat(v) if k == 'createdAt' else v \n",
    "        for k, v in w.items()} for w in r.json()]\n",
    "    if existing_tenants:\n",
    "        df = pd.DataFrame.from_dict(existing_tenants)\n",
    "        df.rename(columns={'name': 'Tenant Name', 'createdAt': 'Created At'}, inplace=True)\n",
    "        display(df)\n",
    "    else:\n",
    "        print('Info: No tenants exist')\n",
    "else:\n",
    "    print(f'Error. HTTP response status code {r.status_code}')"
   ]
  },
  {
   "cell_type": "markdown",
   "metadata": {},
   "source": [
    "### Create tenant"
   ]
  },
  {
   "cell_type": "code",
   "execution_count": 15,
   "metadata": {},
   "outputs": [
    {
     "name": "stdout",
     "output_type": "stream",
     "text": [
      "Success: Tenant 'simpleDemoExample' successfully created\n"
     ]
    }
   ],
   "source": [
    "r = requests.post(f'{base_url}/v1/tenant/{selected.value}{TENANT_SUFFIX}')\n",
    "print_response(r)"
   ]
  },
  {
   "cell_type": "markdown",
   "metadata": {},
   "source": [
    "### Check model consistency"
   ]
  },
  {
   "cell_type": "code",
   "execution_count": 16,
   "metadata": {},
   "outputs": [
    {
     "name": "stdout",
     "output_type": "stream",
     "text": [
      "Success: Model is consistent\n"
     ]
    }
   ],
   "source": [
    "r = requests.post(f'{base_url}/v1/deploy/{selected.value}', json=cson\\\n",
    "                    , params={'simulate': True})\n",
    "print_response(r)"
   ]
  },
  {
   "cell_type": "markdown",
   "metadata": {},
   "source": [
    "### Deploy"
   ]
  },
  {
   "cell_type": "code",
   "execution_count": 18,
   "metadata": {},
   "outputs": [
    {
     "name": "stdout",
     "output_type": "stream",
     "text": [
      "Success: Model successfully deployed\n"
     ]
    }
   ],
   "source": [
    "r = requests.post(f'{base_url}/v1/deploy/{selected.value}{TENANT_SUFFIX}', json=cson)\n",
    "print_response(r)"
   ]
  },
  {
   "cell_type": "markdown",
   "metadata": {},
   "source": [
    "### Load data"
   ]
  },
  {
   "cell_type": "code",
   "execution_count": 20,
   "metadata": {},
   "outputs": [
    {
     "name": "stdout",
     "output_type": "stream",
     "text": [
      "Data successfully loaded\n"
     ]
    }
   ],
   "source": [
    "if selected.value:\n",
    "    data_file = os.path.join(root_path, '..', 'examples', selected.value, 'data.json')\n",
    "    if os.path.exists(data_file):\n",
    "        with open(data_file, encoding = 'utf-8') as f:\n",
    "            data = json.load(f)\n",
    "        r = requests.post(f'{base_url}/v1/data/{selected.value}{TENANT_SUFFIX}', json=data)\n",
    "        if r.status_code == 200:\n",
    "            print('Data successfully loaded')\n",
    "        else:\n",
    "            print(f'Error loading data. HTTP status code {r.status_code}')\n",
    "            print(r.text)\n",
    "    else:\n",
    "        print('No data file exists')"
   ]
  }
 ],
 "metadata": {
  "kernelspec": {
   "display_name": "Python 3.10.7 64-bit",
   "language": "python",
   "name": "python3"
  },
  "language_info": {
   "codemirror_mode": {
    "name": "ipython",
    "version": 3
   },
   "file_extension": ".py",
   "mimetype": "text/x-python",
   "name": "python",
   "nbconvert_exporter": "python",
   "pygments_lexer": "ipython3",
   "version": "3.10.8"
  },
  "orig_nbformat": 4,
  "vscode": {
   "interpreter": {
    "hash": "26de051ba29f2982a8de78e945f0abaf191376122a1563185a90213a26c5da77"
   }
  }
 },
 "nbformat": 4,
 "nbformat_minor": 2
}
